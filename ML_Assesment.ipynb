{
 "cells": [
  {
   "cell_type": "code",
   "execution_count": 24,
   "metadata": {
    "collapsed": true
   },
   "outputs": [],
   "source": [
    "import warnings\n",
    "warnings.filterwarnings('ignore')\n",
    "from PIL import Image\n",
    "import numpy as np\n",
    "\n",
    "def rgb_to_int(r,g,b):\n",
    "\n",
    "    return (r<<16) + (g<<8) + b\n",
    "\n",
    "def read_data(filename):\n",
    "    x = []\n",
    "    y = []\n",
    "    back_color = rgb_to_int(255,255,255)\n",
    "\n",
    "    image = Image.open(filename)\n",
    "    width,height = image.size\n",
    "    pixels = image.load()\n",
    "\n",
    "    for i in range(width):\n",
    "        for j in range(height):\n",
    "            r,g,b,a = pixels[i,j]\n",
    "            color = rgb_to_int(r,g,b)\n",
    "\n",
    "            if (color != back_color):\n",
    "                x.append([i,j])\n",
    "                y.append(color)\n",
    "    return x,y"
   ]
  },
  {
   "cell_type": "code",
   "execution_count": 25,
   "metadata": {},
   "outputs": [],
   "source": [
    "#data1\n",
    "x_1, y_1 = read_data('Images/data1.png')\n",
    "\n",
    "#data2\n",
    "x_2, y_2 = read_data('Images/data2.png')"
   ]
  },
  {
   "cell_type": "markdown",
   "metadata": {},
   "source": [
    "<strong>3.</strong> Datatasets split"
   ]
  },
  {
   "cell_type": "code",
   "execution_count": 26,
   "metadata": {},
   "outputs": [],
   "source": [
    "from sklearn.model_selection import train_test_split\n",
    "\n",
    "#data1\n",
    "X_train_1, X_test_1, y_train_1, y_test_1 = train_test_split(x_1, y_1, test_size=0.3)\n",
    "\n",
    "#data2\n",
    "X_train_2, X_test_2, y_train_2, y_test_2 = train_test_split(x_2, y_2, test_size=0.3)"
   ]
  },
  {
   "cell_type": "markdown",
   "metadata": {},
   "source": [
    "<strong>4.</strong> DecisionTreeClassifier"
   ]
  },
  {
   "cell_type": "code",
   "execution_count": 27,
   "metadata": {},
   "outputs": [
    {
     "data": {
      "text/plain": [
       "DecisionTreeClassifier()"
      ]
     },
     "execution_count": 27,
     "metadata": {},
     "output_type": "execute_result"
    }
   ],
   "source": [
    "from sklearn.tree import DecisionTreeClassifier\n",
    "\n",
    "#data1\n",
    "Decision_Tree_1 = DecisionTreeClassifier()\n",
    "Decision_Tree_1.fit(\n",
    "    X_train_1,\n",
    "    y_train_1\n",
    ")\n",
    "\n",
    "#data2\n",
    "Decision_Tree_2 = DecisionTreeClassifier()\n",
    "Decision_Tree_2.fit(\n",
    "    X_train_2,\n",
    "    y_train_2\n",
    ")"
   ]
  },
  {
   "cell_type": "markdown",
   "metadata": {},
   "source": [
    "<strong>5.</strong> Classifier trainer"
   ]
  },
  {
   "cell_type": "code",
   "execution_count": 28,
   "metadata": {},
   "outputs": [],
   "source": [
    "#data1\n",
    "Y_Pred_1 = Decision_Tree_1.predict(X_test_1)\n",
    "\n",
    "#data2\n",
    "Y_Pred_2 = Decision_Tree_2.predict(X_test_2)"
   ]
  },
  {
   "cell_type": "markdown",
   "metadata": {},
   "source": [
    "<strong>6.</strong>Accuracy of the classifier"
   ]
  },
  {
   "cell_type": "code",
   "execution_count": 29,
   "metadata": {},
   "outputs": [
    {
     "name": "stdout",
     "output_type": "stream",
     "text": [
      "Acuratetea Arborului de Decizie 1 este : 0.9157894736842105\n",
      "Acuratetea Arborului de Decizie 2 este : 0.6676136363636364\n"
     ]
    }
   ],
   "source": [
    "from sklearn.metrics import accuracy_score\n",
    "\n",
    "print('Acuratetea Arborului de Decizie 1 este :', accuracy_score(Y_Pred_1, y_test_1))\n",
    "print('Acuratetea Arborului de Decizie 2 este :', accuracy_score(Y_Pred_2, y_test_2))"
   ]
  },
  {
   "cell_type": "markdown",
   "metadata": {},
   "source": [
    "<strong>7.</strong>Precizia și recall."
   ]
  },
  {
   "cell_type": "markdown",
   "metadata": {},
   "source": [
    "Precizia reprezinta un indicator al performanței în învățarea automată, indicând nivelul calitativ al prezicerilor pozitive. Se măsoară prin împărțirea rezultatelor corecte, la numărul tuturor rezultatelor returnate.\n",
    "\n",
    "Recall-ul este capacitatea modelului antrenat de a detecta cazuri pozitive. Cu cât recall-ul este mai mare, cu atât numărul de scenarii pozitive este mai mare. Se calculeaza ca raport intre numărul de scenarii clasificate corect ca fiind pozitive și numărul de cazuri pozitive."
   ]
  },
  {
   "cell_type": "code",
   "execution_count": 30,
   "metadata": {},
   "outputs": [
    {
     "name": "stdout",
     "output_type": "stream",
     "text": [
      "Precizia Arborului 1 este : 0.9165852069077877\n",
      "Recall-ul Arborului 2 este : 0.9177986764193661\n",
      "\n",
      "Precizia Arborului 1 este : 0.2683817427541913\n",
      "Recall-ul Arborului 2 este : 0.2629916241937601\n"
     ]
    }
   ],
   "source": [
    "from sklearn.metrics import precision_score, recall_score\n",
    "\n",
    "#Decision Tree 1\n",
    "print('Precizia Arborului 1 este :', precision_score(Y_Pred_1, y_test_1, average='macro'))\n",
    "print('Recall-ul Arborului 2 este :', recall_score(Y_Pred_1, y_test_1, average='macro'))\n",
    "\n",
    "#Decision Tree 2\n",
    "print('\\nPrecizia Arborului 1 este :', precision_score(Y_Pred_2, y_test_2, average='macro'))\n",
    "print('Recall-ul Arborului 2 este :', recall_score(Y_Pred_2, y_test_2, average='macro'))"
   ]
  },
  {
   "cell_type": "markdown",
   "metadata": {},
   "source": [
    "<strong>8.</strong> Predict the color for all the pixels"
   ]
  },
  {
   "cell_type": "code",
   "execution_count": 31,
   "metadata": {},
   "outputs": [],
   "source": [
    "#data1\n",
    "image = Image.open('Images/data1.png')\n",
    "width, height = image.size\n",
    "\n",
    "def generate_pixel_coordinates():\n",
    "    points = []\n",
    "    for i in range (width):\n",
    "        for j in range(height):\n",
    "            points.append([i,j])\n",
    "\n",
    "    return points\n",
    "\n",
    "def getRGBfromI(RGBint):#convert int color code to rgb color code\n",
    "    blue =  RGBint & 255\n",
    "    green = (RGBint >> 8) & 255\n",
    "    red =   (RGBint >> 16) & 255\n",
    "    return red, green, blue\n",
    "\n",
    "def save_data(pixels, colors, output_filename):\n",
    "\n",
    "    im = Image.new(\"RGB\", (width, height))\n",
    "    pix = im.load()\n",
    "    for i in range(len(pixels)):\n",
    "        pix[pixels[i][0],pixels[i][1]] = getRGBfromI(colors[i])\n",
    "    im.save(output_filename, \"PNG\")\n",
    "\n",
    "\n",
    "All_points = generate_pixel_coordinates()\n",
    "Y_Pred_1 = Decision_Tree_1.predict(All_points)\n",
    "\n",
    "save_data(All_points, Y_Pred_1, 'DecisionTree_data1.png')\n"
   ]
  },
  {
   "cell_type": "code",
   "execution_count": 32,
   "metadata": {},
   "outputs": [],
   "source": [
    "#data2\n",
    "image = Image.open('Images/data2.png')\n",
    "width, height = image.size\n",
    "\n",
    "def generate_pixel_coordinates():\n",
    "    points = []\n",
    "    for i in range (width):\n",
    "        for j in range(height):\n",
    "            points.append([i,j])\n",
    "\n",
    "    return points\n",
    "\n",
    "def getRGBfromI(RGBint):#convert int color code to rgb color code\n",
    "    blue =  RGBint & 255\n",
    "    green = (RGBint >> 8) & 255\n",
    "    red =   (RGBint >> 16) & 255\n",
    "    return red, green, blue\n",
    "\n",
    "def save_data(pixels, colors, output_filename):\n",
    "\n",
    "    im = Image.new(\"RGB\", (width, height))\n",
    "    pix = im.load()\n",
    "    for i in range(len(pixels)):\n",
    "        pix[pixels[i][0],pixels[i][1]] = getRGBfromI(colors[i])\n",
    "    im.save(output_filename, \"PNG\")\n",
    "\n",
    "\n",
    "All_points = generate_pixel_coordinates()\n",
    "Y_Pred_1 = Decision_Tree_2.predict(All_points)\n",
    "\n",
    "save_data(All_points, Y_Pred_1, 'DecisionTree_data2.png')"
   ]
  },
  {
   "cell_type": "markdown",
   "metadata": {},
   "source": [
    "<strong>9.</strong> 5-fold cross-validation"
   ]
  },
  {
   "cell_type": "code",
   "execution_count": 44,
   "metadata": {},
   "outputs": [
    {
     "data": {
      "text/plain": [
       "{'fit_time': array([0.00299907, 0.00299883, 0.00200105, 0.0030005 , 0.00199866]),\n",
       " 'score_time': array([0.00199938, 0.00199914, 0.0019989 , 0.00099993, 0.00099993]),\n",
       " 'test_score': array([0.82539683, 0.80952381, 0.84126984, 0.87301587, 0.88709677]),\n",
       " 'train_score': array([1., 1., 1., 1., 1.])}"
      ]
     },
     "execution_count": 44,
     "metadata": {},
     "output_type": "execute_result"
    }
   ],
   "source": [
    "from sklearn.model_selection import KFold\n",
    "from sklearn.model_selection import cross_validate\n",
    "\n",
    "#DecisionTreeClassifier data1\n",
    "K_Fold = KFold(n_splits=5)\n",
    "\n",
    "Decision_Tree_1 = DecisionTreeClassifier()\n",
    "Decision_Tree_1_scores = cross_validate(\n",
    "    Decision_Tree_1,\n",
    "    x_1, y_1,\n",
    "    cv=K_Fold,\n",
    "    return_train_score=True,\n",
    "    scoring=(\n",
    "        'accuracy'\n",
    "    )\n",
    ")\n",
    "\n",
    "Decision_Tree_1_scores"
   ]
  },
  {
   "cell_type": "code",
   "execution_count": 45,
   "metadata": {},
   "outputs": [
    {
     "data": {
      "text/plain": [
       "{'fit_time': array([0.00800061, 0.01299739, 0.01300097, 0.00799727, 0.0059998 ]),\n",
       " 'score_time': array([0.00200033, 0.00200009, 0.00300145, 0.0010016 , 0.00099969]),\n",
       " 'test_score': array([0.30490405, 0.50959488, 0.43283582, 0.45628998, 0.39872068]),\n",
       " 'train_score': array([1., 1., 1., 1., 1.])}"
      ]
     },
     "execution_count": 45,
     "metadata": {},
     "output_type": "execute_result"
    }
   ],
   "source": [
    "#DecisionTreeClassifier data2\n",
    "K_Fold = KFold(n_splits=5)\n",
    "\n",
    "Decision_Tree_2 = DecisionTreeClassifier()\n",
    "Decision_Tree_2_scores = cross_validate(\n",
    "    Decision_Tree_2,\n",
    "    x_2, y_2,\n",
    "    cv=K_Fold,\n",
    "    return_train_score=True,\n",
    "    scoring=(\n",
    "        'accuracy'\n",
    "    )\n",
    ")\n",
    "\n",
    "Decision_Tree_2_scores"
   ]
  },
  {
   "cell_type": "markdown",
   "metadata": {},
   "source": [
    "<strong>10.</strong> SVM classifier"
   ]
  },
  {
   "cell_type": "code",
   "execution_count": 35,
   "metadata": {},
   "outputs": [
    {
     "data": {
      "text/plain": [
       "Pipeline(steps=[('standardscaler', StandardScaler()), ('svc', SVC())])"
      ]
     },
     "execution_count": 35,
     "metadata": {},
     "output_type": "execute_result"
    }
   ],
   "source": [
    "from sklearn.svm import SVC\n",
    "from sklearn.pipeline import make_pipeline\n",
    "from sklearn.preprocessing import StandardScaler\n",
    "\n",
    "\n",
    "#SVC dataset 1\n",
    "SVM_pipeline_1 = make_pipeline(\n",
    "    StandardScaler(),\n",
    "    SVC()\n",
    ")\n",
    "#Training SVC\n",
    "SVM_pipeline_1.fit(\n",
    "    X_train_1,\n",
    "    y_train_1\n",
    ")\n",
    "\n",
    "#SVC dataset 2\n",
    "SVM_pipeline_2 = make_pipeline(\n",
    "    StandardScaler(),\n",
    "    SVC()\n",
    ")\n",
    "#Training SVC\n",
    "SVM_pipeline_2.fit(\n",
    "    X_train_2,\n",
    "    y_train_2\n",
    ")"
   ]
  },
  {
   "cell_type": "code",
   "execution_count": 36,
   "metadata": {},
   "outputs": [],
   "source": [
    "#Testing SVC 1\n",
    "Y_Pred_1 = SVM_pipeline_1.predict(X_test_1)\n",
    "\n",
    "#Testing SVC 2\n",
    "Y_Pred_2 = SVM_pipeline_2.predict(X_test_2)"
   ]
  },
  {
   "cell_type": "code",
   "execution_count": 37,
   "metadata": {},
   "outputs": [
    {
     "name": "stdout",
     "output_type": "stream",
     "text": [
      "Acuratetea SVC 1 este : 0.9789473684210527\n",
      "Precizia SVC 1 este : 0.978494623655914\n",
      "Recall-ul SVC 1 este : 0.980952380952381\n",
      "\n",
      "Acuratetea SVC 2 este : 0.5951704545454546\n",
      "Precizia SVC 2 este : 0.03428571428571429\n",
      "Recall-ul SVC 2 este : 0.03766931992738444\n"
     ]
    }
   ],
   "source": [
    "from sklearn.metrics import precision_score, recall_score\n",
    "from sklearn.metrics import accuracy_score\n",
    "\n",
    "#SVC 1\n",
    "print('Acuratetea SVC 1 este :', accuracy_score(Y_Pred_1, y_test_1))\n",
    "print('Precizia SVC 1 este :', precision_score(Y_Pred_1, y_test_1, average='macro'))\n",
    "print('Recall-ul SVC 1 este :', recall_score(Y_Pred_1, y_test_1, average='macro'))\n",
    "\n",
    "#SVC 2\n",
    "print('\\nAcuratetea SVC 2 este :', accuracy_score(Y_Pred_2, y_test_2))\n",
    "print('Precizia SVC 2 este :', precision_score(Y_Pred_2, y_test_2, average='macro'))\n",
    "print('Recall-ul SVC 2 este :', recall_score(Y_Pred_2, y_test_2, average='macro'))"
   ]
  },
  {
   "cell_type": "code",
   "execution_count": 38,
   "metadata": {},
   "outputs": [],
   "source": [
    "#Images SVC\n",
    "\n",
    "#data1\n",
    "image = Image.open('Images/data1.png')\n",
    "width, height = image.size\n",
    "\n",
    "All_points = generate_pixel_coordinates()\n",
    "Y_Pred_1 = SVM_pipeline_1.predict(All_points)\n",
    "\n",
    "save_data(All_points, Y_Pred_1, 'SVM_data1.png')\n",
    "\n",
    "#data2\n",
    "image = Image.open('Images/data1.png')\n",
    "width, height = image.size\n",
    "\n",
    "All_points = generate_pixel_coordinates()\n",
    "Y_Pred_1 = SVM_pipeline_2.predict(All_points)\n",
    "\n",
    "save_data(All_points, Y_Pred_1, 'SVM_data2.png')"
   ]
  },
  {
   "cell_type": "markdown",
   "metadata": {},
   "source": [
    "<strong>14.</strong>KNeighbors Classifier"
   ]
  },
  {
   "cell_type": "code",
   "execution_count": 39,
   "metadata": {},
   "outputs": [
    {
     "data": {
      "text/plain": [
       "KNeighborsClassifier()"
      ]
     },
     "execution_count": 39,
     "metadata": {},
     "output_type": "execute_result"
    }
   ],
   "source": [
    "from sklearn.neighbors import KNeighborsClassifier\n",
    "\n",
    "#KNN_Classifier dataset 1\n",
    "KNN_Classifier_1 = KNeighborsClassifier()\n",
    "\n",
    "#Training KNN\n",
    "KNN_Classifier_1.fit(\n",
    "    X_train_1,\n",
    "    y_train_1\n",
    ")\n",
    "\n",
    "#KNN_Classifier dataset 2\n",
    "KNN_Classifier_2 = KNeighborsClassifier()\n",
    "\n",
    "#Training KNN\n",
    "KNN_Classifier_2.fit(\n",
    "    X_train_2,\n",
    "    y_train_2\n",
    ")"
   ]
  },
  {
   "cell_type": "code",
   "execution_count": 40,
   "metadata": {},
   "outputs": [],
   "source": [
    "#data1\n",
    "image = Image.open('Images/data1.png')\n",
    "width, height = image.size\n",
    "\n",
    "All_points = generate_pixel_coordinates()\n",
    "Y_Pred_1 = KNN_Classifier_1.predict(All_points)\n",
    "\n",
    "save_data(All_points, Y_Pred_1, 'KNN_data1.png')"
   ]
  },
  {
   "cell_type": "code",
   "execution_count": 41,
   "metadata": {},
   "outputs": [],
   "source": [
    "#data2\n",
    "image = Image.open('Images/data2.png')\n",
    "width, height = image.size\n",
    "\n",
    "All_points = generate_pixel_coordinates()\n",
    "Y_Pred_1 = KNN_Classifier_2.predict(All_points)\n",
    "\n",
    "save_data(All_points, Y_Pred_1, 'KNN_data2.png')"
   ]
  },
  {
   "cell_type": "code",
   "execution_count": 41,
   "metadata": {},
   "outputs": [],
   "source": []
  }
 ],
 "metadata": {
  "kernelspec": {
   "display_name": "Python 3 (ipykernel)",
   "language": "python",
   "name": "python3"
  },
  "language_info": {
   "codemirror_mode": {
    "name": "ipython",
    "version": 3
   },
   "file_extension": ".py",
   "mimetype": "text/x-python",
   "name": "python",
   "nbconvert_exporter": "python",
   "pygments_lexer": "ipython3",
   "version": "3.9.13"
  }
 },
 "nbformat": 4,
 "nbformat_minor": 1
}
